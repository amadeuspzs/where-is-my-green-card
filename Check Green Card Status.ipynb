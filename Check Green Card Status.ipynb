{
 "cells": [
  {
   "cell_type": "markdown",
   "metadata": {},
   "source": [
    "# When's my Green Card coming?\n",
    "\n",
    "Finding any information on when your government documents are arriving is painful and relies knowing about government websites that are not geared towards automated alerts (API anyone?).\n",
    "\n",
    "This notebook will help programatically extract processing dates for green cards.\n",
    "\n",
    "**Disclaimer:** per https://www.uscis.gov/website-policies and https://www.uscis.gov/website-policies/privacy-and-legal-disclaimers there do not seem to be any restrictions on this sort of automated scripting. But be wise, and have fun!\n",
    "\n",
    "First, we need to establish a session with the USCIS \"eGov\" website (https://egov.uscis.gov/cris/processTimesDisplayInit.do) and grab a session cookie."
   ]
  },
  {
   "cell_type": "code",
   "execution_count": 192,
   "metadata": {},
   "outputs": [
    {
     "name": "stdout",
     "output_type": "stream",
     "text": [
      "abc4A-De1h0x6dgqxNH6v\n"
     ]
    }
   ],
   "source": [
    "import requests\n",
    "url = \"https://egov.uscis.gov/cris/processTimesDisplayInit.do\"\n",
    "r = requests.get(url)\n",
    "sessionId = r.headers['Set-Cookie'].split(';')[0].split('=')[1]\n",
    "print sessionId"
   ]
  },
  {
   "cell_type": "markdown",
   "metadata": {},
   "source": [
    "Next, we can query the page for the processing center of interest. To find your Service Center, check your notification document and crosscheck with the service centers listed at https://egov.uscis.gov/cris/processTimesDisplayInit.do (extracting the numerical value). At the time of writing:\n",
    "\n",
    "|code|        Service Center         |\n",
    "|----|-------------------------------|\n",
    "|991 |CSC - California Service Center|\n",
    "|992 |NSC - Nebraska Service Center  |\n",
    "|993 |TSC - Texas Service Center     |\n",
    "|990 |VSC - Vermont Service Center   |\n",
    "|1031|YSC - Potomac Service Center   |\n",
    "\n",
    "If you'd like to check other processing dates, check the name and value of the submit value and replace `'displaySCProcTimes':'Service Center Processing Dates'` accordingly."
   ]
  },
  {
   "cell_type": "code",
   "execution_count": 193,
   "metadata": {},
   "outputs": [
    {
     "name": "stdout",
     "output_type": "stream",
     "text": [
      "Request successful!\n"
     ]
    }
   ],
   "source": [
    "serviceCenter = '992' # Nebraska\n",
    "url = \"https://egov.uscis.gov/cris/processingTimesDisplay.do\"\n",
    "cookies = dict(JSESSIONID=sessionId)\n",
    "payload = {'serviceCenter': serviceCenter, 'displaySCProcTimes':'Service Center Processing Dates'}\n",
    "r = requests.post(url, data=payload, cookies=cookies)\n",
    "if r.status_code == 200:\n",
    "    print \"Request successful!\"\n",
    "else:\n",
    "    print \"Something went wrong with the request\", r.status_code"
   ]
  },
  {
   "cell_type": "markdown",
   "metadata": {},
   "source": [
    "Now we need to parse the response data in `r.text`. This is where things get a little messy. We're going to use Beautiful Soup:"
   ]
  },
  {
   "cell_type": "code",
   "execution_count": 235,
   "metadata": {},
   "outputs": [
    {
     "name": "stdout",
     "output_type": "stream",
     "text": [
      "<!DOCTYPE html PUBLIC \"-//W3C/DTD HTML 4.01//EN\"  \"http://www.w3.org/TR/html4/DTD/strict.dtd\">\n",
      "<html lang=\"en\" xml:lang=\"en\" xmlns=\"http://www.w3.org/1999/xhtml\">\n",
      " <head>\n",
      "  <meta content=\"text/html; charset=utf-8\" http-equiv=\"Content-Type\"/>\n",
      "  <title>\n",
      "   U.S. Citizenship and Immigration Services - \r\n",
      "      \r\n",
      "      \r\n",
      "      \r\n",
      "      USCIS Processing Time Information\n",
      "  </title>\n",
      "  <link href=\"https://my.uscis.gov/assets/favicon-9429d1fce1555403bc766c9a06e15410.ico\" rel=\"shortcut icon\" type=\"image/x-icon\"/>\n",
      "  <link href=\"/cris/style/branding/uscis.css\" rel=\"stylesheet\"/>\n",
      "  <link href=\"/cris/style/cris.css\" rel=\"stylesheet\"/>\n",
      "  <!--[if lte IE 6]>\r\n",
      "    <link rel=\"stylesheet\" href=\"/cris/style/ie6.css\" />\r\n",
      "    <![endif]-->\n",
      "  <link href=\"/cris/style/processingTimes.css\" rel=\"stylesheet\"/>\n",
      "  <script src=\"/cris/scripts/cris_library.js\" type=\"text/javascript\">\n",
      "  </script>\n",
      "  <script src=\"/cris/scripts/yui/yahoo-min.js\" type=\"text/javascript\">\n",
      "  </script>\n",
      "  <script src=\"/cris/scripts/yui/event-min.js\" ...\n"
     ]
    }
   ],
   "source": [
    "from bs4 import BeautifulSoup\n",
    "soup = BeautifulSoup(r.text,'html.parser')\n",
    "print soup.prettify()[0:1000], \"...\""
   ]
  },
  {
   "cell_type": "markdown",
   "metadata": {},
   "source": [
    "First, we need to extract when they last updated the data, so we can estimate actual green card status:"
   ]
  },
  {
   "cell_type": "code",
   "execution_count": 228,
   "metadata": {},
   "outputs": [
    {
     "name": "stdout",
     "output_type": "stream",
     "text": [
      "July 31, 2017\n"
     ]
    }
   ],
   "source": [
    "from datetime import datetime\n",
    "lastUpdated = soup.caption.text.split(':')[1].strip()\n",
    "lastUpdatedDateTime = datetime.strptime(lastUpdated,'%B %d, %Y')\n",
    "print lastUpdated"
   ]
  },
  {
   "cell_type": "markdown",
   "metadata": {},
   "source": [
    "Now, we need to search for the specific visa class of interest, and extract it. This scraping may differ depending on your visa class. Here we are looking for a form I-140:"
   ]
  },
  {
   "cell_type": "code",
   "execution_count": 241,
   "metadata": {},
   "outputs": [
    {
     "name": "stdout",
     "output_type": "stream",
     "text": [
      "\n",
      "\n",
      "I-140\n",
      "Immigrant Petition for Alien Worker\n",
      "Multinational executive or manager  (E13)\n",
      "\r\n",
      "\t\t\t\t\r\n",
      "\t\t\t\t\r\n",
      "...\n"
     ]
    }
   ],
   "source": [
    "formToFind = 'I-140'\n",
    "forms = soup.find_all('tbody')\n",
    "for form in forms:\n",
    "    if form.attrs['title'] == formToFind:\n",
    "        break\n",
    "\n",
    "print form.text[0:100], \"...\""
   ]
  },
  {
   "cell_type": "markdown",
   "metadata": {},
   "source": [
    "Within this group, we need to pull out (E13) classification processing date:"
   ]
  },
  {
   "cell_type": "code",
   "execution_count": 242,
   "metadata": {},
   "outputs": [
    {
     "name": "stdout",
     "output_type": "stream",
     "text": [
      "July 02, 2016\n"
     ]
    }
   ],
   "source": [
    "classification='E13'\n",
    "for tr in form.find_all('tr'):\n",
    "    for td in tr.find_all('td'):\n",
    "        if td.text.find(\"(%s)\"%classification) != -1:\n",
    "            processingDate = td.next_sibling.next_sibling.text.strip()\n",
    "            break\n",
    "processingDateTime = datetime.strptime(processingDate,'%B %d, %Y')\n",
    "print processingDateTime.strftime(\"%B %d, %Y\")"
   ]
  },
  {
   "cell_type": "markdown",
   "metadata": {},
   "source": [
    "Great! So we now have the processing date of our green card, as per the last update of the eGov portal.\n",
    "\n",
    "Given that the eGov portal isn't updated all that often, we're going to estimate a linear projection of the date when it was updated to today, to get us a little closer to our real date:"
   ]
  },
  {
   "cell_type": "code",
   "execution_count": 243,
   "metadata": {},
   "outputs": [
    {
     "name": "stdout",
     "output_type": "stream",
     "text": [
      "August 22, 2016\n"
     ]
    }
   ],
   "source": [
    "estimatedProcessingDateTime = datetime.now() - lastUpdatedDateTime + processingDateTime\n",
    "print estimatedProcessingDateTime.strftime(\"%B %d, %Y\")"
   ]
  },
  {
   "cell_type": "markdown",
   "metadata": {},
   "source": [
    "That's it! You can now crosscheck this date with your notification date and figure out whether you should have heard something, or if you need to sit tight.\n",
    "\n",
    "Enjoy!"
   ]
  }
 ],
 "metadata": {
  "kernelspec": {
   "display_name": "Python 2",
   "language": "python",
   "name": "python2"
  },
  "language_info": {
   "codemirror_mode": {
    "name": "ipython",
    "version": 2
   },
   "file_extension": ".py",
   "mimetype": "text/x-python",
   "name": "python",
   "nbconvert_exporter": "python",
   "pygments_lexer": "ipython2",
   "version": "2.7.13rc1"
  }
 },
 "nbformat": 4,
 "nbformat_minor": 2
}
